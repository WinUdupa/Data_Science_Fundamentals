{
 "cells": [
  {
   "cell_type": "code",
   "execution_count": 3,
   "id": "d9ed921f-5783-4662-afff-89de5dca0dc0",
   "metadata": {},
   "outputs": [],
   "source": [
    "import numpy as np"
   ]
  },
  {
   "cell_type": "code",
   "execution_count": 4,
   "id": "35da01d4-d152-45dc-8927-f8ccb07421b9",
   "metadata": {},
   "outputs": [],
   "source": [
    "#datatype\n",
    "a1 = np.array([1, 2, 3])"
   ]
  },
  {
   "cell_type": "code",
   "execution_count": 3,
   "id": "64524beb-3da2-46eb-b6ac-ea89ebecf889",
   "metadata": {},
   "outputs": [
    {
     "data": {
      "text/plain": [
       "array([1, 2, 3])"
      ]
     },
     "execution_count": 3,
     "metadata": {},
     "output_type": "execute_result"
    }
   ],
   "source": [
    "a1"
   ]
  },
  {
   "cell_type": "code",
   "execution_count": 4,
   "id": "e7df7e09-24a2-47b6-9729-8b561d8f9910",
   "metadata": {},
   "outputs": [
    {
     "data": {
      "text/plain": [
       "numpy.ndarray"
      ]
     },
     "execution_count": 4,
     "metadata": {},
     "output_type": "execute_result"
    }
   ],
   "source": [
    "type(a1)"
   ]
  },
  {
   "cell_type": "code",
   "execution_count": 5,
   "id": "b121fd79-6d57-44d3-8de6-4abeb68ef2f8",
   "metadata": {},
   "outputs": [
    {
     "data": {
      "text/plain": [
       "array([[1, 2, 3],\n",
       "       [4, 5, 6]])"
      ]
     },
     "execution_count": 5,
     "metadata": {},
     "output_type": "execute_result"
    }
   ],
   "source": [
    "a2 = np.array([[1, 2, 3],\n",
    "              [4, 5, 6]])\n",
    "a2"
   ]
  },
  {
   "cell_type": "code",
   "execution_count": 7,
   "id": "d92a9a02-3676-4171-8c1c-ca435133ad43",
   "metadata": {},
   "outputs": [
    {
     "data": {
      "text/plain": [
       "(3,)"
      ]
     },
     "execution_count": 7,
     "metadata": {},
     "output_type": "execute_result"
    }
   ],
   "source": [
    "a1.shape"
   ]
  },
  {
   "cell_type": "code",
   "execution_count": 8,
   "id": "951a682e-ae27-455d-9bf7-03f87155f9a2",
   "metadata": {},
   "outputs": [
    {
     "data": {
      "text/plain": [
       "(2, 3)"
      ]
     },
     "execution_count": 8,
     "metadata": {},
     "output_type": "execute_result"
    }
   ],
   "source": [
    "a2.shape"
   ]
  },
  {
   "cell_type": "code",
   "execution_count": 9,
   "id": "2b1c4d29-bfc8-40d0-b760-24398c3fc045",
   "metadata": {},
   "outputs": [
    {
     "data": {
      "text/plain": [
       "1"
      ]
     },
     "execution_count": 9,
     "metadata": {},
     "output_type": "execute_result"
    }
   ],
   "source": [
    "a1.ndim"
   ]
  },
  {
   "cell_type": "code",
   "execution_count": 10,
   "id": "c5a33431-1a36-49c2-957e-0732e67085a9",
   "metadata": {},
   "outputs": [
    {
     "data": {
      "text/plain": [
       "2"
      ]
     },
     "execution_count": 10,
     "metadata": {},
     "output_type": "execute_result"
    }
   ],
   "source": [
    "a2.ndim"
   ]
  },
  {
   "cell_type": "code",
   "execution_count": 12,
   "id": "49a5f07b-2bad-4a39-a82d-8765a9ca4eda",
   "metadata": {},
   "outputs": [
    {
     "data": {
      "text/plain": [
       "dtype('int64')"
      ]
     },
     "execution_count": 12,
     "metadata": {},
     "output_type": "execute_result"
    }
   ],
   "source": [
    "a1.dtype"
   ]
  },
  {
   "cell_type": "code",
   "execution_count": 13,
   "id": "f866236c-b8db-4488-adf0-70916a48f515",
   "metadata": {},
   "outputs": [
    {
     "data": {
      "text/plain": [
       "(3, 6)"
      ]
     },
     "execution_count": 13,
     "metadata": {},
     "output_type": "execute_result"
    }
   ],
   "source": [
    "a1.size, a2.size"
   ]
  },
  {
   "cell_type": "code",
   "execution_count": 14,
   "id": "d90a8010-a397-4201-8b4d-dc3dc7c3fc17",
   "metadata": {},
   "outputs": [
    {
     "data": {
      "text/plain": [
       "numpy.ndarray"
      ]
     },
     "execution_count": 14,
     "metadata": {},
     "output_type": "execute_result"
    }
   ],
   "source": [
    "type(a1)"
   ]
  },
  {
   "cell_type": "code",
   "execution_count": 16,
   "id": "6a59e76f-936a-4ab4-ac0d-150d50b8a1e1",
   "metadata": {},
   "outputs": [
    {
     "data": {
      "text/html": [
       "<div>\n",
       "<style scoped>\n",
       "    .dataframe tbody tr th:only-of-type {\n",
       "        vertical-align: middle;\n",
       "    }\n",
       "\n",
       "    .dataframe tbody tr th {\n",
       "        vertical-align: top;\n",
       "    }\n",
       "\n",
       "    .dataframe thead th {\n",
       "        text-align: right;\n",
       "    }\n",
       "</style>\n",
       "<table border=\"1\" class=\"dataframe\">\n",
       "  <thead>\n",
       "    <tr style=\"text-align: right;\">\n",
       "      <th></th>\n",
       "      <th>0</th>\n",
       "      <th>1</th>\n",
       "      <th>2</th>\n",
       "    </tr>\n",
       "  </thead>\n",
       "  <tbody>\n",
       "    <tr>\n",
       "      <th>0</th>\n",
       "      <td>1</td>\n",
       "      <td>2</td>\n",
       "      <td>3</td>\n",
       "    </tr>\n",
       "    <tr>\n",
       "      <th>1</th>\n",
       "      <td>4</td>\n",
       "      <td>5</td>\n",
       "      <td>6</td>\n",
       "    </tr>\n",
       "  </tbody>\n",
       "</table>\n",
       "</div>"
      ],
      "text/plain": [
       "   0  1  2\n",
       "0  1  2  3\n",
       "1  4  5  6"
      ]
     },
     "execution_count": 16,
     "metadata": {},
     "output_type": "execute_result"
    }
   ],
   "source": [
    "#Creating pandas dataframe from numpy array \n",
    "import pandas as pd\n",
    "\n",
    "df = pd.DataFrame(a2)\n",
    "df"
   ]
  },
  {
   "cell_type": "markdown",
   "id": "fd5ee09c-3a33-42f0-bcfa-59dce015d294",
   "metadata": {},
   "source": [
    "## Creating Numpy arrays"
   ]
  },
  {
   "cell_type": "code",
   "execution_count": 6,
   "id": "d53cade1-224d-4888-b9b3-460a011ed44a",
   "metadata": {},
   "outputs": [
    {
     "data": {
      "text/plain": [
       "array([[1., 1., 1.],\n",
       "       [1., 1., 1.]])"
      ]
     },
     "execution_count": 6,
     "metadata": {},
     "output_type": "execute_result"
    }
   ],
   "source": [
    "ones = np.ones((2,3), dtype = float)\n",
    "ones"
   ]
  },
  {
   "cell_type": "code",
   "execution_count": 7,
   "id": "da8e710e-7b39-4a01-a928-8c545db17130",
   "metadata": {},
   "outputs": [
    {
     "data": {
      "text/plain": [
       "array([[0., 0., 0.],\n",
       "       [0., 0., 0.]])"
      ]
     },
     "execution_count": 7,
     "metadata": {},
     "output_type": "execute_result"
    }
   ],
   "source": [
    "zeros = np.zeros((2,3))\n",
    "zeros"
   ]
  },
  {
   "cell_type": "code",
   "execution_count": 8,
   "id": "44a4a9fc-c82e-40d1-bd44-3f93f415877e",
   "metadata": {},
   "outputs": [
    {
     "data": {
      "text/plain": [
       "array([0, 2, 4, 6, 8])"
      ]
     },
     "execution_count": 8,
     "metadata": {},
     "output_type": "execute_result"
    }
   ],
   "source": [
    "#We can create with a range also \n",
    "range_array = np.arange(0,10,2)\n",
    "range_array"
   ]
  },
  {
   "cell_type": "code",
   "execution_count": 9,
   "id": "81d251fc-b68e-47ff-9311-df5467c14a5e",
   "metadata": {},
   "outputs": [
    {
     "data": {
      "text/plain": [
       "array([[2, 0, 1],\n",
       "       [1, 4, 9],\n",
       "       [6, 1, 8]], dtype=int32)"
      ]
     },
     "execution_count": 9,
     "metadata": {},
     "output_type": "execute_result"
    }
   ],
   "source": [
    "#We can also create with random numbers\n",
    "range_array = np.random.randint(0, 10, size = (3,3))\n",
    "range_array\n",
    "\n",
    "#random.random gives random numbers between 0-1\n",
    "#random.rand gives random numbers in the specified size "
   ]
  },
  {
   "cell_type": "code",
   "execution_count": 10,
   "id": "bd1334e8-2a76-49cf-b805-de6d22985514",
   "metadata": {},
   "outputs": [
    {
     "data": {
      "text/plain": [
       "0.22986840908219097"
      ]
     },
     "execution_count": 10,
     "metadata": {},
     "output_type": "execute_result"
    }
   ],
   "source": [
    "range_arrays2 =  np.random.rand()\n",
    "range_arrays2"
   ]
  },
  {
   "cell_type": "markdown",
   "id": "2dc82fdb-30d5-4d0b-9abb-79f77a2482bc",
   "metadata": {},
   "source": [
    "## Random Seed\n",
    "creates random numbers but makes sure the same random numbers are generated everytime. Helps while sharing the documents with others"
   ]
  },
  {
   "cell_type": "code",
   "execution_count": 11,
   "id": "e28622e3-38a1-4761-a499-74f2d3a6ec20",
   "metadata": {},
   "outputs": [
    {
     "data": {
      "text/plain": [
       "array([[9, 4, 0, 1, 9],\n",
       "       [0, 1, 8, 9, 0],\n",
       "       [8, 6, 4, 3, 0],\n",
       "       [4, 6, 8, 1, 8],\n",
       "       [4, 1, 3, 6, 5]], dtype=int32)"
      ]
     },
     "execution_count": 11,
     "metadata": {},
     "output_type": "execute_result"
    }
   ],
   "source": [
    "np.random.seed(seed = 10)\n",
    "range_arrays3 = np.random.randint(10, size = (5,5))\n",
    "range_arrays3"
   ]
  },
  {
   "cell_type": "code",
   "execution_count": 12,
   "id": "f29071b4-5329-4905-9827-1dd4d04b4628",
   "metadata": {},
   "outputs": [
    {
     "data": {
      "text/plain": [
       "array([[3, 9, 6, 9, 1],\n",
       "       [9, 4, 2, 6, 7],\n",
       "       [8, 8, 9, 2, 0],\n",
       "       [6, 7, 8, 1, 7],\n",
       "       [1, 4, 0, 8, 5]], dtype=int32)"
      ]
     },
     "execution_count": 12,
     "metadata": {},
     "output_type": "execute_result"
    }
   ],
   "source": [
    "range_arrays3 = np.random.randint(10, size = (5,5))\n",
    "range_arrays3"
   ]
  },
  {
   "cell_type": "markdown",
   "id": "e621edb4-ace2-461c-a7d3-e2784b69ee8a",
   "metadata": {},
   "source": [
    "## Viewing arrays and Matrices"
   ]
  },
  {
   "cell_type": "code",
   "execution_count": 13,
   "id": "eb0d27e9-58df-4466-baba-2c30598b0732",
   "metadata": {},
   "outputs": [
    {
     "data": {
      "text/plain": [
       "array([0, 1, 2, 4, 6, 8, 9], dtype=int32)"
      ]
     },
     "execution_count": 13,
     "metadata": {},
     "output_type": "execute_result"
    }
   ],
   "source": [
    "#Finding the unique elements in an array\n",
    "np.unique(range_array)\n"
   ]
  },
  {
   "cell_type": "code",
   "execution_count": 14,
   "id": "1d0d11b7-162e-4f52-9054-3c669e31ca5f",
   "metadata": {},
   "outputs": [
    {
     "data": {
      "text/plain": [
       "np.int64(1)"
      ]
     },
     "execution_count": 14,
     "metadata": {},
     "output_type": "execute_result"
    }
   ],
   "source": [
    "a1[0]"
   ]
  },
  {
   "cell_type": "code",
   "execution_count": 15,
   "id": "087fe2b5-d7de-436d-8fd4-c32dd75552ed",
   "metadata": {},
   "outputs": [
    {
     "data": {
      "text/plain": [
       "array([1, 2, 3])"
      ]
     },
     "execution_count": 15,
     "metadata": {},
     "output_type": "execute_result"
    }
   ],
   "source": [
    "a2[0]"
   ]
  },
  {
   "cell_type": "code",
   "execution_count": 16,
   "id": "814cb3d8-014a-469c-9528-b5e360d19722",
   "metadata": {},
   "outputs": [
    {
     "data": {
      "text/plain": [
       "array([[[[4, 7, 8, 8, 2],\n",
       "         [6, 2, 8, 8, 6],\n",
       "         [6, 5, 6, 0, 0],\n",
       "         [6, 9, 1, 8, 9]],\n",
       "\n",
       "        [[1, 2, 8, 9, 9],\n",
       "         [5, 0, 2, 7, 3],\n",
       "         [0, 4, 2, 0, 3],\n",
       "         [3, 1, 2, 5, 9]],\n",
       "\n",
       "        [[0, 1, 0, 1, 9],\n",
       "         [0, 9, 2, 1, 1],\n",
       "         [0, 0, 5, 9, 0],\n",
       "         [4, 6, 6, 0, 2]]],\n",
       "\n",
       "\n",
       "       [[[3, 3, 2, 6, 0],\n",
       "         [5, 1, 3, 6, 5],\n",
       "         [5, 1, 8, 0, 5],\n",
       "         [9, 8, 5, 7, 8]],\n",
       "\n",
       "        [[5, 8, 9, 9, 1],\n",
       "         [5, 9, 1, 4, 7],\n",
       "         [7, 7, 9, 7, 6],\n",
       "         [0, 3, 9, 4, 4]],\n",
       "\n",
       "        [[6, 8, 4, 9, 2],\n",
       "         [1, 1, 6, 3, 4],\n",
       "         [5, 4, 0, 2, 8],\n",
       "         [0, 7, 6, 5, 8]]]], dtype=int32)"
      ]
     },
     "execution_count": 16,
     "metadata": {},
     "output_type": "execute_result"
    }
   ],
   "source": [
    "a4 = np.random.randint(10, size = (2, 3, 4, 5))\n",
    "a4"
   ]
  },
  {
   "cell_type": "code",
   "execution_count": 17,
   "id": "990c2a35-62e9-49af-b432-61ef7a1d57c7",
   "metadata": {},
   "outputs": [
    {
     "data": {
      "text/plain": [
       "array([[[[6, 8, 4, 9, 2]]]], dtype=int32)"
      ]
     },
     "execution_count": 17,
     "metadata": {},
     "output_type": "execute_result"
    }
   ],
   "source": [
    "a4[1:, 2:, :1, :5]"
   ]
  },
  {
   "cell_type": "markdown",
   "id": "3663beb4-257c-4615-9d1a-5b6c17c4c929",
   "metadata": {},
   "source": [
    "## Aggregation "
   ]
  },
  {
   "cell_type": "code",
   "execution_count": 20,
   "id": "2d5dceaf-3d05-4463-8a35-5535f34af9be",
   "metadata": {},
   "outputs": [],
   "source": [
    "#To find the sum\n",
    "a = np.sum(a1)\n"
   ]
  },
  {
   "cell_type": "code",
   "execution_count": 21,
   "id": "8e496a4d-7327-4c7f-97e1-2733dc12e609",
   "metadata": {},
   "outputs": [
    {
     "data": {
      "text/plain": [
       "np.int64(533)"
      ]
     },
     "execution_count": 21,
     "metadata": {},
     "output_type": "execute_result"
    }
   ],
   "source": [
    "np.sum(a4)"
   ]
  },
  {
   "cell_type": "markdown",
   "id": "4e9a1fca-9aa3-47de-8ccb-a3563080236f",
   "metadata": {},
   "source": [
    "Important note is that use(sum()) on Python datatypes and use (np.sum()) on Numpy datatypes"
   ]
  },
  {
   "cell_type": "code",
   "execution_count": 25,
   "id": "913cf43e-b969-4b6a-b1eb-9a163c8a50c4",
   "metadata": {},
   "outputs": [
    {
     "data": {
      "text/plain": [
       "array([0.73857963, 0.28529301, 0.46392016, ..., 0.03961362, 0.56521525,\n",
       "       0.23537744], shape=(10000000,))"
      ]
     },
     "execution_count": 25,
     "metadata": {},
     "output_type": "execute_result"
    }
   ],
   "source": [
    "# Creating a huge array to see how fast numpy sum is \n",
    "a5 = np.random.random(10000000)\n",
    "a5"
   ]
  },
  {
   "cell_type": "code",
   "execution_count": 26,
   "id": "582ff2d5-1a9f-49f6-b1ef-71968a024fa0",
   "metadata": {},
   "outputs": [
    {
     "data": {
      "text/plain": [
       "array([0.73857963, 0.28529301, 0.46392016, 0.53190576, 0.7840753 ,\n",
       "       0.14444281, 0.37170392, 0.19027789, 0.77659492, 0.55421584])"
      ]
     },
     "execution_count": 26,
     "metadata": {},
     "output_type": "execute_result"
    }
   ],
   "source": [
    "a5[:10]"
   ]
  },
  {
   "cell_type": "code",
   "execution_count": 27,
   "id": "3133e23e-e649-43e5-98ad-4693a5300b76",
   "metadata": {},
   "outputs": [
    {
     "name": "stdout",
     "output_type": "stream",
     "text": [
      "2.79 s ± 220 ms per loop (mean ± std. dev. of 7 runs, 1 loop each)\n",
      "37.9 ms ± 14.8 ms per loop (mean ± std. dev. of 7 runs, 10 loops each)\n"
     ]
    }
   ],
   "source": [
    "%timeit sum(a5) # This is the normal sum\n",
    "%timeit np.sum(a5) # Numpy sum"
   ]
  },
  {
   "cell_type": "code",
   "execution_count": 28,
   "id": "105b629d-bf9d-431d-b943-59813436f00f",
   "metadata": {},
   "outputs": [
    {
     "data": {
      "text/plain": [
       "np.float64(3.5)"
      ]
     },
     "execution_count": 28,
     "metadata": {},
     "output_type": "execute_result"
    }
   ],
   "source": [
    "# To find the mean\n",
    "np.mean(a2)"
   ]
  },
  {
   "cell_type": "code",
   "execution_count": 29,
   "id": "9c065f37-da99-4373-8a55-2eb143691677",
   "metadata": {},
   "outputs": [
    {
     "data": {
      "text/plain": [
       "np.int64(6)"
      ]
     },
     "execution_count": 29,
     "metadata": {},
     "output_type": "execute_result"
    }
   ],
   "source": [
    "np.max(a2)"
   ]
  },
  {
   "cell_type": "code",
   "execution_count": 34,
   "id": "dd1be76e-8d59-4088-b2b8-dbaaac444369",
   "metadata": {},
   "outputs": [
    {
     "data": {
      "text/plain": [
       "array([0.81649658, 0.81649658])"
      ]
     },
     "execution_count": 34,
     "metadata": {},
     "output_type": "execute_result"
    }
   ],
   "source": [
    "# Standard deviation is how much the data is  spread out \n",
    "np.std(a2, axis = 1)"
   ]
  },
  {
   "cell_type": "code",
   "execution_count": 32,
   "id": "536b061c-1137-47c7-b98c-c9b7ddff3a3a",
   "metadata": {},
   "outputs": [
    {
     "data": {
      "text/plain": [
       "np.float64(1.0)"
      ]
     },
     "execution_count": 32,
     "metadata": {},
     "output_type": "execute_result"
    }
   ],
   "source": [
    "np.mean(ones)"
   ]
  },
  {
   "cell_type": "code",
   "execution_count": 33,
   "id": "3d69453a-d4d2-4630-af49-6ac34476f508",
   "metadata": {},
   "outputs": [
    {
     "data": {
      "text/plain": [
       "np.float64(0.08336338021101107)"
      ]
     },
     "execution_count": 33,
     "metadata": {},
     "output_type": "execute_result"
    }
   ],
   "source": [
    "# Variance is the measure of the average degree to which each number is different is it from the mean \n",
    "# Higher variance = wider range of numbers\n",
    "# Lower variance = lower range of numbers\n",
    "\n",
    "np.var(a5)"
   ]
  },
  {
   "cell_type": "markdown",
   "id": "4aed025f-a95d-40ea-b989-5f52ea7b790e",
   "metadata": {},
   "source": [
    "## Standard Deviation and Variance"
   ]
  },
  {
   "cell_type": "code",
   "execution_count": 35,
   "id": "183a9fee-3213-494a-9c8a-4fc85f279c91",
   "metadata": {},
   "outputs": [],
   "source": [
    "# std and var is the syntax to find these\n",
    "high_var = np.array([1, 100, 200, 300, 4000, 5000])\n",
    "low_var = np.array([2, 4, 6, 8, 10])"
   ]
  },
  {
   "cell_type": "code",
   "execution_count": 36,
   "id": "8bc89411-55a8-4d80-ba77-68eac299f2ce",
   "metadata": {},
   "outputs": [
    {
     "data": {
      "text/plain": [
       "(np.float64(4296133.472222221), np.float64(8.0))"
      ]
     },
     "execution_count": 36,
     "metadata": {},
     "output_type": "execute_result"
    }
   ],
   "source": [
    "np.var(high_var), np.var(low_var)"
   ]
  },
  {
   "cell_type": "code",
   "execution_count": 37,
   "id": "d65fb7bb-c1c3-4d32-95a9-73ebb8e9f528",
   "metadata": {},
   "outputs": [
    {
     "data": {
      "text/plain": [
       "(np.float64(2072.711623024829), np.float64(2.8284271247461903))"
      ]
     },
     "execution_count": 37,
     "metadata": {},
     "output_type": "execute_result"
    }
   ],
   "source": [
    "np.std(high_var), np.std(low_var)"
   ]
  },
  {
   "cell_type": "code",
   "execution_count": 39,
   "id": "6eca1235-6595-496c-8b4e-53ac09b8a1cf",
   "metadata": {},
   "outputs": [],
   "source": [
    "import matplotlib.pyplot as plt"
   ]
  },
  {
   "cell_type": "code",
   "execution_count": 43,
   "id": "077605ca-46da-4a56-ba82-58e1a1c61a2a",
   "metadata": {},
   "outputs": [
    {
     "data": {
      "image/png": "[encoded data removed]",
      "text/plain": [
       "<Figure size 640x480 with 1 Axes>"
      ]
     },
     "metadata": {},
     "output_type": "display_data"
    }
   ],
   "source": [
    "plt.hist(high_var)\n",
    "plt.show()"
   ]
  },
  {
   "cell_type": "code",
   "execution_count": 42,
   "id": "81dd5c02-5053-4958-8d47-bff42917cd83",
   "metadata": {},
   "outputs": [
    {
     "data": {
      "image/png": "[encoded data removed]",
      "text/plain": [
       "<Figure size 640x480 with 1 Axes>"
      ]
     },
     "metadata": {},
     "output_type": "display_data"
    }
   ],
   "source": [
    "plt.hist(low_var)\n",
    "plt.show()"
   ]
  },
  {
   "cell_type": "markdown",
   "id": "b29afe32-919e-4000-ad67-2c7a812c1af3",
   "metadata": {},
   "source": [
    "## Resize and Transpose"
   ]
  },
  {
   "cell_type": "code",
   "execution_count": 44,
   "id": "28c9036b-ba64-48c9-a01f-99e26bb37583",
   "metadata": {},
   "outputs": [
    {
     "data": {
      "text/plain": [
       "array([[1, 2, 3],\n",
       "       [4, 5, 6]])"
      ]
     },
     "execution_count": 44,
     "metadata": {},
     "output_type": "execute_result"
    }
   ],
   "source": [
    "a2"
   ]
  },
  {
   "cell_type": "code",
   "execution_count": 46,
   "id": "c4455de1-76fd-4f03-aa4e-4df661441940",
   "metadata": {},
   "outputs": [
    {
     "data": {
      "text/plain": [
       "array([[[[4, 7, 8, 8, 2],\n",
       "         [6, 2, 8, 8, 6],\n",
       "         [6, 5, 6, 0, 0],\n",
       "         [6, 9, 1, 8, 9]],\n",
       "\n",
       "        [[1, 2, 8, 9, 9],\n",
       "         [5, 0, 2, 7, 3],\n",
       "         [0, 4, 2, 0, 3],\n",
       "         [3, 1, 2, 5, 9]],\n",
       "\n",
       "        [[0, 1, 0, 1, 9],\n",
       "         [0, 9, 2, 1, 1],\n",
       "         [0, 0, 5, 9, 0],\n",
       "         [4, 6, 6, 0, 2]]],\n",
       "\n",
       "\n",
       "       [[[3, 3, 2, 6, 0],\n",
       "         [5, 1, 3, 6, 5],\n",
       "         [5, 1, 8, 0, 5],\n",
       "         [9, 8, 5, 7, 8]],\n",
       "\n",
       "        [[5, 8, 9, 9, 1],\n",
       "         [5, 9, 1, 4, 7],\n",
       "         [7, 7, 9, 7, 6],\n",
       "         [0, 3, 9, 4, 4]],\n",
       "\n",
       "        [[6, 8, 4, 9, 2],\n",
       "         [1, 1, 6, 3, 4],\n",
       "         [5, 4, 0, 2, 8],\n",
       "         [0, 7, 6, 5, 8]]]], dtype=int32)"
      ]
     },
     "execution_count": 46,
     "metadata": {},
     "output_type": "execute_result"
    }
   ],
   "source": [
    "a4"
   ]
  },
  {
   "cell_type": "code",
   "execution_count": 48,
   "id": "6f3777b5-c41d-40b9-b772-9a0f414ddb61",
   "metadata": {},
   "outputs": [
    {
     "data": {
      "text/plain": [
       "(2, 3, 4, 5)"
      ]
     },
     "execution_count": 48,
     "metadata": {},
     "output_type": "execute_result"
    }
   ],
   "source": [
    "a4.shape"
   ]
  },
  {
   "cell_type": "code",
   "execution_count": 61,
   "id": "510ffeba-1520-4b9f-b86d-e6fba76505bd",
   "metadata": {},
   "outputs": [
    {
     "data": {
      "text/plain": [
       "array([[1, 2],\n",
       "       [3, 4],\n",
       "       [5, 6]])"
      ]
     },
     "execution_count": 61,
     "metadata": {},
     "output_type": "execute_result"
    }
   ],
   "source": [
    "a2.reshape(3,2)"
   ]
  },
  {
   "cell_type": "code",
   "execution_count": 62,
   "id": "f3750dc6-4d52-4ed8-ac6c-d9f196abac92",
   "metadata": {},
   "outputs": [
    {
     "data": {
      "text/plain": [
       "array([[[[4, 3],\n",
       "         [1, 5],\n",
       "         [0, 6]],\n",
       "\n",
       "        [[6, 5],\n",
       "         [5, 5],\n",
       "         [0, 1]],\n",
       "\n",
       "        [[6, 5],\n",
       "         [0, 7],\n",
       "         [0, 5]],\n",
       "\n",
       "        [[6, 9],\n",
       "         [3, 0],\n",
       "         [4, 0]]],\n",
       "\n",
       "\n",
       "       [[[7, 3],\n",
       "         [2, 8],\n",
       "         [1, 8]],\n",
       "\n",
       "        [[2, 1],\n",
       "         [0, 9],\n",
       "         [9, 1]],\n",
       "\n",
       "        [[5, 1],\n",
       "         [4, 7],\n",
       "         [0, 4]],\n",
       "\n",
       "        [[9, 8],\n",
       "         [1, 3],\n",
       "         [6, 7]]],\n",
       "\n",
       "\n",
       "       [[[8, 2],\n",
       "         [8, 9],\n",
       "         [0, 4]],\n",
       "\n",
       "        [[8, 3],\n",
       "         [2, 1],\n",
       "         [2, 6]],\n",
       "\n",
       "        [[6, 8],\n",
       "         [2, 9],\n",
       "         [5, 0]],\n",
       "\n",
       "        [[1, 5],\n",
       "         [2, 9],\n",
       "         [6, 6]]],\n",
       "\n",
       "\n",
       "       [[[8, 6],\n",
       "         [9, 9],\n",
       "         [1, 9]],\n",
       "\n",
       "        [[8, 6],\n",
       "         [7, 4],\n",
       "         [1, 3]],\n",
       "\n",
       "        [[0, 0],\n",
       "         [0, 7],\n",
       "         [9, 2]],\n",
       "\n",
       "        [[8, 7],\n",
       "         [5, 4],\n",
       "         [0, 5]]],\n",
       "\n",
       "\n",
       "       [[[2, 0],\n",
       "         [9, 1],\n",
       "         [9, 2]],\n",
       "\n",
       "        [[6, 5],\n",
       "         [3, 7],\n",
       "         [1, 4]],\n",
       "\n",
       "        [[0, 5],\n",
       "         [3, 6],\n",
       "         [0, 8]],\n",
       "\n",
       "        [[9, 8],\n",
       "         [9, 4],\n",
       "         [2, 8]]]], dtype=int32)"
      ]
     },
     "execution_count": 62,
     "metadata": {},
     "output_type": "execute_result"
    }
   ],
   "source": [
    "a4.T"
   ]
  },
  {
   "cell_type": "code",
   "execution_count": 65,
   "id": "c1e13e4a-4783-47d5-973d-820c14a44711",
   "metadata": {},
   "outputs": [
    {
     "data": {
      "text/plain": [
       "(5, 4, 3, 2)"
      ]
     },
     "execution_count": 65,
     "metadata": {},
     "output_type": "execute_result"
    }
   ],
   "source": [
    "a4.T.shape\n"
   ]
  },
  {
   "cell_type": "markdown",
   "id": "3a0614f1-fe30-4e78-8029-88f17e875fbf",
   "metadata": {},
   "source": [
    "## Example for Dot Product in real world application\n"
   ]
  },
  {
   "cell_type": "code",
   "execution_count": 68,
   "id": "ccb7fa73-eafb-40d7-9ff5-6707e3c112c7",
   "metadata": {},
   "outputs": [
    {
     "data": {
      "text/plain": [
       "array([[12, 15,  0],\n",
       "       [ 3,  3,  7],\n",
       "       [ 9, 19, 18],\n",
       "       [ 4,  6, 12],\n",
       "       [ 1,  6,  7]], dtype=int32)"
      ]
     },
     "execution_count": 68,
     "metadata": {},
     "output_type": "execute_result"
    }
   ],
   "source": [
    "np.random.seed(0)\n",
    "\n",
    "#Number of jars\n",
    "sales = np.random.randint(20, size = (5,3))\n",
    "sales"
   ]
  },
  {
   "cell_type": "code",
   "execution_count": 83,
   "id": "eeb7c38a-1a8a-45da-9609-baa599e99ecc",
   "metadata": {},
   "outputs": [
    {
     "data": {
      "text/html": [
       "<div>\n",
       "<style scoped>\n",
       "    .dataframe tbody tr th:only-of-type {\n",
       "        vertical-align: middle;\n",
       "    }\n",
       "\n",
       "    .dataframe tbody tr th {\n",
       "        vertical-align: top;\n",
       "    }\n",
       "\n",
       "    .dataframe thead th {\n",
       "        text-align: right;\n",
       "    }\n",
       "</style>\n",
       "<table border=\"1\" class=\"dataframe\">\n",
       "  <thead>\n",
       "    <tr style=\"text-align: right;\">\n",
       "      <th></th>\n",
       "      <th>Almond Butter</th>\n",
       "      <th>Peanut Butter</th>\n",
       "      <th>Cashew Butter</th>\n",
       "    </tr>\n",
       "  </thead>\n",
       "  <tbody>\n",
       "    <tr>\n",
       "      <th>Mon</th>\n",
       "      <td>12</td>\n",
       "      <td>15</td>\n",
       "      <td>0</td>\n",
       "    </tr>\n",
       "    <tr>\n",
       "      <th>Tue</th>\n",
       "      <td>3</td>\n",
       "      <td>3</td>\n",
       "      <td>7</td>\n",
       "    </tr>\n",
       "    <tr>\n",
       "      <th>Wed</th>\n",
       "      <td>9</td>\n",
       "      <td>19</td>\n",
       "      <td>18</td>\n",
       "    </tr>\n",
       "    <tr>\n",
       "      <th>Thur</th>\n",
       "      <td>4</td>\n",
       "      <td>6</td>\n",
       "      <td>12</td>\n",
       "    </tr>\n",
       "    <tr>\n",
       "      <th>Fri</th>\n",
       "      <td>1</td>\n",
       "      <td>6</td>\n",
       "      <td>7</td>\n",
       "    </tr>\n",
       "  </tbody>\n",
       "</table>\n",
       "</div>"
      ],
      "text/plain": [
       "      Almond Butter  Peanut Butter  Cashew Butter\n",
       "Mon              12             15              0\n",
       "Tue               3              3              7\n",
       "Wed               9             19             18\n",
       "Thur              4              6             12\n",
       "Fri               1              6              7"
      ]
     },
     "execution_count": 83,
     "metadata": {},
     "output_type": "execute_result"
    }
   ],
   "source": [
    "# Weekly Sales\n",
    "import pandas as pd\n",
    "weekly_sales = pd.DataFrame(sales, index = [\"Mon\", \"Tue\", \"Wed\", \"Thur\", \"Fri\"], columns = [\"Almond Butter\", \"Peanut Butter\", \"Cashew Butter\"])\n",
    "weekly_sales"
   ]
  },
  {
   "cell_type": "code",
   "execution_count": 84,
   "id": "ef189855-441e-4e55-bb3e-4afbbe01fc0e",
   "metadata": {},
   "outputs": [],
   "source": [
    "# Creating prices\n",
    "prices = np.array([10, 8, 12])"
   ]
  },
  {
   "cell_type": "code",
   "execution_count": 85,
   "id": "0a823e32-8a3b-40dc-a306-002019eb6afa",
   "metadata": {},
   "outputs": [
    {
     "data": {
      "text/html": [
       "<div>\n",
       "<style scoped>\n",
       "    .dataframe tbody tr th:only-of-type {\n",
       "        vertical-align: middle;\n",
       "    }\n",
       "\n",
       "    .dataframe tbody tr th {\n",
       "        vertical-align: top;\n",
       "    }\n",
       "\n",
       "    .dataframe thead th {\n",
       "        text-align: right;\n",
       "    }\n",
       "</style>\n",
       "<table border=\"1\" class=\"dataframe\">\n",
       "  <thead>\n",
       "    <tr style=\"text-align: right;\">\n",
       "      <th></th>\n",
       "      <th>Prices</th>\n",
       "    </tr>\n",
       "  </thead>\n",
       "  <tbody>\n",
       "    <tr>\n",
       "      <th>Almond Butter</th>\n",
       "      <td>10</td>\n",
       "    </tr>\n",
       "    <tr>\n",
       "      <th>Peanut Butter</th>\n",
       "      <td>8</td>\n",
       "    </tr>\n",
       "    <tr>\n",
       "      <th>Cashew Butter</th>\n",
       "      <td>12</td>\n",
       "    </tr>\n",
       "  </tbody>\n",
       "</table>\n",
       "</div>"
      ],
      "text/plain": [
       "               Prices\n",
       "Almond Butter      10\n",
       "Peanut Butter       8\n",
       "Cashew Butter      12"
      ]
     },
     "execution_count": 85,
     "metadata": {},
     "output_type": "execute_result"
    }
   ],
   "source": [
    "butter_price = pd.DataFrame(prices, columns = [\"Prices\"], index = [\"Almond Butter\", \"Peanut Butter\", \"Cashew Butter\"])\n",
    "butter_price"
   ]
  },
  {
   "cell_type": "code",
   "execution_count": 86,
   "id": "a8840b53-28cb-4e1d-9a8b-8e8d928123e2",
   "metadata": {},
   "outputs": [
    {
     "data": {
      "text/plain": [
       "array([[240],\n",
       "       [138],\n",
       "       [458],\n",
       "       [232],\n",
       "       [142]])"
      ]
     },
     "execution_count": 86,
     "metadata": {},
     "output_type": "execute_result"
    }
   ],
   "source": [
    "Total = np.dot(weekly_sales, butter_price)\n",
    "Total"
   ]
  },
  {
   "cell_type": "code",
   "execution_count": 90,
   "id": "787230a4-0853-4520-934f-8c5bac22fd77",
   "metadata": {},
   "outputs": [
    {
     "data": {
      "text/html": [
       "<div>\n",
       "<style scoped>\n",
       "    .dataframe tbody tr th:only-of-type {\n",
       "        vertical-align: middle;\n",
       "    }\n",
       "\n",
       "    .dataframe tbody tr th {\n",
       "        vertical-align: top;\n",
       "    }\n",
       "\n",
       "    .dataframe thead th {\n",
       "        text-align: right;\n",
       "    }\n",
       "</style>\n",
       "<table border=\"1\" class=\"dataframe\">\n",
       "  <thead>\n",
       "    <tr style=\"text-align: right;\">\n",
       "      <th></th>\n",
       "      <th>Almond Butter</th>\n",
       "      <th>Peanut Butter</th>\n",
       "      <th>Cashew Butter</th>\n",
       "      <th>total sales</th>\n",
       "    </tr>\n",
       "  </thead>\n",
       "  <tbody>\n",
       "    <tr>\n",
       "      <th>Mon</th>\n",
       "      <td>12</td>\n",
       "      <td>15</td>\n",
       "      <td>0</td>\n",
       "      <td>240</td>\n",
       "    </tr>\n",
       "    <tr>\n",
       "      <th>Tue</th>\n",
       "      <td>3</td>\n",
       "      <td>3</td>\n",
       "      <td>7</td>\n",
       "      <td>138</td>\n",
       "    </tr>\n",
       "    <tr>\n",
       "      <th>Wed</th>\n",
       "      <td>9</td>\n",
       "      <td>19</td>\n",
       "      <td>18</td>\n",
       "      <td>458</td>\n",
       "    </tr>\n",
       "    <tr>\n",
       "      <th>Thur</th>\n",
       "      <td>4</td>\n",
       "      <td>6</td>\n",
       "      <td>12</td>\n",
       "      <td>232</td>\n",
       "    </tr>\n",
       "    <tr>\n",
       "      <th>Fri</th>\n",
       "      <td>1</td>\n",
       "      <td>6</td>\n",
       "      <td>7</td>\n",
       "      <td>142</td>\n",
       "    </tr>\n",
       "  </tbody>\n",
       "</table>\n",
       "</div>"
      ],
      "text/plain": [
       "      Almond Butter  Peanut Butter  Cashew Butter  total sales\n",
       "Mon              12             15              0          240\n",
       "Tue               3              3              7          138\n",
       "Wed               9             19             18          458\n",
       "Thur              4              6             12          232\n",
       "Fri               1              6              7          142"
      ]
     },
     "execution_count": 90,
     "metadata": {},
     "output_type": "execute_result"
    }
   ],
   "source": [
    "weekly_sales[\"total sales\"] = np.dot(weekly_sales, butter_price)\n",
    "weekly_sales\n"
   ]
  },
  {
   "cell_type": "code",
   "execution_count": 93,
   "id": "92cf1422-c662-4fb9-aa3e-9f7750ceea37",
   "metadata": {},
   "outputs": [
    {
     "data": {
      "text/html": [
       "<div>\n",
       "<style scoped>\n",
       "    .dataframe tbody tr th:only-of-type {\n",
       "        vertical-align: middle;\n",
       "    }\n",
       "\n",
       "    .dataframe tbody tr th {\n",
       "        vertical-align: top;\n",
       "    }\n",
       "\n",
       "    .dataframe thead th {\n",
       "        text-align: right;\n",
       "    }\n",
       "</style>\n",
       "<table border=\"1\" class=\"dataframe\">\n",
       "  <thead>\n",
       "    <tr style=\"text-align: right;\">\n",
       "      <th></th>\n",
       "      <th>Prices</th>\n",
       "    </tr>\n",
       "  </thead>\n",
       "  <tbody>\n",
       "    <tr>\n",
       "      <th>Almond Butter</th>\n",
       "      <td>10</td>\n",
       "    </tr>\n",
       "    <tr>\n",
       "      <th>Peanut Butter</th>\n",
       "      <td>8</td>\n",
       "    </tr>\n",
       "    <tr>\n",
       "      <th>Cashew Butter</th>\n",
       "      <td>12</td>\n",
       "    </tr>\n",
       "  </tbody>\n",
       "</table>\n",
       "</div>"
      ],
      "text/plain": [
       "               Prices\n",
       "Almond Butter      10\n",
       "Peanut Butter       8\n",
       "Cashew Butter      12"
      ]
     },
     "execution_count": 93,
     "metadata": {},
     "output_type": "execute_result"
    }
   ],
   "source": [
    "butter_price"
   ]
  },
  {
   "cell_type": "markdown",
   "id": "b5d574ab-88f2-44aa-8288-24e491cc5464",
   "metadata": {},
   "source": [
    "## Converting Image to Nummbers"
   ]
  },
  {
   "cell_type": "code",
   "execution_count": 98,
   "id": "bdffaef3-c022-4557-9fc2-42256168a1eb",
   "metadata": {},
   "outputs": [],
   "source": [
    "from matplotlib.image import imread"
   ]
  },
  {
   "cell_type": "code",
   "execution_count": 101,
   "id": "8bf0d579-3271-4d4e-b003-65c7013ba954",
   "metadata": {},
   "outputs": [
    {
     "name": "stdout",
     "output_type": "stream",
     "text": [
      "[[[14 27 17]\n",
      "  [14 27 17]\n",
      "  [12 28 17]\n",
      "  ...\n",
      "  [42 36 24]\n",
      "  [42 35 25]\n",
      "  [41 34 24]]\n",
      "\n",
      " [[14 27 17]\n",
      "  [14 27 17]\n",
      "  [12 28 17]\n",
      "  ...\n",
      "  [42 36 24]\n",
      "  [42 35 25]\n",
      "  [42 35 25]]\n",
      "\n",
      " [[13 26 16]\n",
      "  [14 27 17]\n",
      "  [12 28 17]\n",
      "  ...\n",
      "  [42 36 24]\n",
      "  [42 35 25]\n",
      "  [42 35 25]]\n",
      "\n",
      " ...\n",
      "\n",
      " [[47 32 27]\n",
      "  [48 33 28]\n",
      "  [48 33 26]\n",
      "  ...\n",
      "  [ 6  6  8]\n",
      "  [ 6  6  8]\n",
      "  [ 6  6  8]]\n",
      "\n",
      " [[39 24 17]\n",
      "  [40 25 18]\n",
      "  [42 27 20]\n",
      "  ...\n",
      "  [ 6  6  8]\n",
      "  [ 6  6  8]\n",
      "  [ 6  6  8]]\n",
      "\n",
      " [[32 17 10]\n",
      "  [33 18 11]\n",
      "  [36 21 14]\n",
      "  ...\n",
      "  [ 6  6  8]\n",
      "  [ 6  6  8]\n",
      "  [ 6  6  8]]]\n"
     ]
    }
   ],
   "source": [
    "panda = imread(\"numpy-panda.jpeg\")\n",
    "print(panda)"
   ]
  },
  {
   "cell_type": "code",
   "execution_count": 102,
   "id": "d9084642-ef2a-4e1e-bb57-b757a1e47893",
   "metadata": {},
   "outputs": [
    {
     "data": {
      "text/plain": [
       "(3271680, (852, 1280, 3), 3)"
      ]
     },
     "execution_count": 102,
     "metadata": {},
     "output_type": "execute_result"
    }
   ],
   "source": [
    "panda.size, panda.shape, panda.ndim"
   ]
  },
  {
   "cell_type": "code",
   "execution_count": 103,
   "id": "aa2fc437-f5f2-4d63-99a3-fa21b7dae1d3",
   "metadata": {},
   "outputs": [
    {
     "data": {
      "text/plain": [
       "array([[[14, 27, 17],\n",
       "        [14, 27, 17],\n",
       "        [12, 28, 17],\n",
       "        ...,\n",
       "        [42, 36, 24],\n",
       "        [42, 35, 25],\n",
       "        [41, 34, 24]],\n",
       "\n",
       "       [[14, 27, 17],\n",
       "        [14, 27, 17],\n",
       "        [12, 28, 17],\n",
       "        ...,\n",
       "        [42, 36, 24],\n",
       "        [42, 35, 25],\n",
       "        [42, 35, 25]],\n",
       "\n",
       "       [[13, 26, 16],\n",
       "        [14, 27, 17],\n",
       "        [12, 28, 17],\n",
       "        ...,\n",
       "        [42, 36, 24],\n",
       "        [42, 35, 25],\n",
       "        [42, 35, 25]],\n",
       "\n",
       "       ...,\n",
       "\n",
       "       [[14, 27, 17],\n",
       "        [15, 28, 18],\n",
       "        [13, 29, 18],\n",
       "        ...,\n",
       "        [44, 36, 25],\n",
       "        [44, 35, 26],\n",
       "        [44, 35, 26]],\n",
       "\n",
       "       [[14, 27, 17],\n",
       "        [14, 27, 17],\n",
       "        [12, 28, 17],\n",
       "        ...,\n",
       "        [43, 35, 24],\n",
       "        [42, 33, 24],\n",
       "        [42, 33, 24]],\n",
       "\n",
       "       [[14, 27, 17],\n",
       "        [14, 27, 17],\n",
       "        [12, 28, 17],\n",
       "        ...,\n",
       "        [43, 35, 24],\n",
       "        [43, 34, 25],\n",
       "        [42, 33, 24]]], shape=(10, 1280, 3), dtype=uint8)"
      ]
     },
     "execution_count": 103,
     "metadata": {},
     "output_type": "execute_result"
    }
   ],
   "source": [
    "panda[:10]"
   ]
  },
  {
   "cell_type": "code",
   "execution_count": null,
   "id": "21f63848-ffdf-46d4-a91f-053af361da2f",
   "metadata": {},
   "outputs": [],
   "source": []
  },
  {
   "cell_type": "code",
   "execution_count": null,
   "id": "32b0d40f-8fa2-4159-8c01-bb9a92ee7de7",
   "metadata": {},
   "outputs": [],
   "source": []
  }
 ],
 "metadata": {
  "kernelspec": {
   "display_name": "Python 3 (ipykernel)",
   "language": "python",
   "name": "python3"
  },
  "language_info": {
   "codemirror_mode": {
    "name": "ipython",
    "version": 3
   },
   "file_extension": ".py",
   "mimetype": "text/x-python",
   "name": "python",
   "nbconvert_exporter": "python",
   "pygments_lexer": "ipython3",
   "version": "3.13.3"
  }
 },
 "nbformat": 4,
 "nbformat_minor": 5
}
